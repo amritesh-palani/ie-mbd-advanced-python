{
 "cells": [
  {
   "cell_type": "markdown",
   "metadata": {
    "slideshow": {
     "slide_type": "slide"
    }
   },
   "source": [
    "![IE](../img/ie.png)\n",
    "\n",
    "# Session 2: The Python execution model\n",
    "\n",
    "### Juan Luis Cano Rodríguez <jcano@faculty.ie.edu> - Master in Business Analytics and Big Data (2020-05-07)"
   ]
  },
  {
   "cell_type": "markdown",
   "metadata": {},
   "source": [
    "### How does `import` work?\n",
    "\n",
    "How do `import os` and `import pandas` work? They are both in `sys.path`:"
   ]
  },
  {
   "cell_type": "code",
   "execution_count": 1,
   "metadata": {},
   "outputs": [],
   "source": [
    "import os"
   ]
  },
  {
   "cell_type": "code",
   "execution_count": 2,
   "metadata": {},
   "outputs": [],
   "source": [
    "import pandas"
   ]
  },
  {
   "cell_type": "code",
   "execution_count": 6,
   "metadata": {},
   "outputs": [
    {
     "name": "stdout",
     "output_type": "stream",
     "text": [
      "00_intro.ipynb\r\n",
      "01_git.ipynb\r\n",
      "02_pythonpath.ipynb\r\n",
      "03-04_pip-vs-conda.ipynb\r\n",
      "05_layout.ipynb\r\n",
      "06_unit-tests.ipynb\r\n",
      "07-08_object-oriented-programming.ipynb\r\n",
      "09-10_flask.ipynb\r\n",
      "async_tests.py\r\n",
      "estimate_pi.py\r\n",
      "extra_dask.ipynb\r\n",
      "extra_multiprocessing-asynchronous.ipynb\r\n",
      "mp_test.py\r\n"
     ]
    }
   ],
   "source": [
    "ls"
   ]
  },
  {
   "cell_type": "markdown",
   "metadata": {},
   "source": [
    "### How can I `import` my code?\n",
    "\n",
    "Before answering that question, let's create a small project, called \"IE-NLP-Utils\", where we will place some basic functios we will use throughout the course.\n",
    "\n",
    "1. Go to the command line\n",
    "2. Browse to a directory of your liking, for example `cd ~/Projects/IE`\n",
    "3. Create a new directory, for example `mkdir ie-nlp-utils`\n",
    "4. Enter that directory, `cd ie-nlp-utils`\n",
    "5. Let's create a basic `README.md` containing the name of the project and your name\n",
    "6. Let's generate a `.gitignore` file from https://gitignore.io/ for \"Python\" and \"Jupyter notebooks\", and copy the contents in the same directory as the `README.md`\n",
    "7. `git add` the two new files, and `git commit` with the message `\"First commit\"`"
   ]
  },
  {
   "cell_type": "markdown",
   "metadata": {},
   "source": [
    "#### Exercise\n",
    "\n",
    "Now we have some basic structure to start a Python project (we will see how to refine this in another session). Now we are going to create some basic code that we can use.\n",
    "\n",
    "1. Create a `ie_nlp_utils.py` file with a function called `tokenize` that takes a `str` sentence and splits it into a `list` of words\n",
    "2. Open a Python interpreter (`winpty python` on Git Bash on Windows, `python` everywhere else) and check that `from ie_nlp_utils import tokenize` works\n",
    "3. Test the function by calling it with some sentence"
   ]
  },
  {
   "cell_type": "code",
   "execution_count": 16,
   "metadata": {},
   "outputs": [
    {
     "data": {
      "text/plain": [
       "['/Users/amriteshpalani/Documents/GitHub/Amritesh-Palani/ie-mbd-advanced-python/sessions',\n",
       " '/opt/anaconda3/lib/python37.zip',\n",
       " '/opt/anaconda3/lib/python3.7',\n",
       " '/opt/anaconda3/lib/python3.7/lib-dynload',\n",
       " '',\n",
       " '/opt/anaconda3/lib/python3.7/site-packages',\n",
       " '/opt/anaconda3/lib/python3.7/site-packages/aeosa',\n",
       " '/opt/anaconda3/lib/python3.7/site-packages/IPython/extensions',\n",
       " '/Users/amriteshpalani/.ipython']"
      ]
     },
     "execution_count": 16,
     "metadata": {},
     "output_type": "execute_result"
    }
   ],
   "source": [
    "import sys\n",
    "sys.path"
   ]
  },
  {
   "cell_type": "code",
   "execution_count": 19,
   "metadata": {},
   "outputs": [],
   "source": [
    "sys.path.insert(0,'/Users/amriteshpalani/Documents/GitHub/Amritesh-Palani/ie-mbd-advanced-python/sessions')"
   ]
  },
  {
   "cell_type": "code",
   "execution_count": 24,
   "metadata": {},
   "outputs": [
    {
     "ename": "ModuleNotFoundError",
     "evalue": "No module named 'ie_nlp_utils'",
     "output_type": "error",
     "traceback": [
      "\u001b[0;31m---------------------------------------------------------------------------\u001b[0m",
      "\u001b[0;31mModuleNotFoundError\u001b[0m                       Traceback (most recent call last)",
      "\u001b[0;32m<ipython-input-24-b1b8f18ed4a6>\u001b[0m in \u001b[0;36m<module>\u001b[0;34m\u001b[0m\n\u001b[0;32m----> 1\u001b[0;31m \u001b[0;32mimport\u001b[0m \u001b[0mie_nlp_utils\u001b[0m\u001b[0;34m\u001b[0m\u001b[0;34m\u001b[0m\u001b[0m\n\u001b[0m",
      "\u001b[0;31mModuleNotFoundError\u001b[0m: No module named 'ie_nlp_utils'"
     ]
    }
   ],
   "source": [
    "import ie_nlp_utils"
   ]
  },
  {
   "cell_type": "code",
   "execution_count": 25,
   "metadata": {},
   "outputs": [
    {
     "ename": "ModuleNotFoundError",
     "evalue": "No module named 'ie_nlp_utils'",
     "output_type": "error",
     "traceback": [
      "\u001b[0;31m---------------------------------------------------------------------------\u001b[0m",
      "\u001b[0;31mModuleNotFoundError\u001b[0m                       Traceback (most recent call last)",
      "\u001b[0;32m<ipython-input-25-0157fbca8c0a>\u001b[0m in \u001b[0;36m<module>\u001b[0;34m\u001b[0m\n\u001b[0;32m----> 1\u001b[0;31m \u001b[0;32mimport\u001b[0m \u001b[0mie_nlp_utils\u001b[0m\u001b[0;34m.\u001b[0m\u001b[0m__file__\u001b[0m\u001b[0;34m\u001b[0m\u001b[0;34m\u001b[0m\u001b[0m\n\u001b[0m",
      "\u001b[0;31mModuleNotFoundError\u001b[0m: No module named 'ie_nlp_utils'"
     ]
    }
   ],
   "source": [
    "import ie_nlp_utils.__file__"
   ]
  },
  {
   "cell_type": "code",
   "execution_count": 23,
   "metadata": {
    "scrolled": true
   },
   "outputs": [
    {
     "ename": "ModuleNotFoundError",
     "evalue": "No module named 'ie_nlp_utils'",
     "output_type": "error",
     "traceback": [
      "\u001b[0;31m---------------------------------------------------------------------------\u001b[0m",
      "\u001b[0;31mModuleNotFoundError\u001b[0m                       Traceback (most recent call last)",
      "\u001b[0;32m<ipython-input-23-d35acb803352>\u001b[0m in \u001b[0;36m<module>\u001b[0;34m\u001b[0m\n\u001b[0;32m----> 1\u001b[0;31m \u001b[0;32mfrom\u001b[0m \u001b[0mie_nlp_utils\u001b[0m\u001b[0;34m.\u001b[0m\u001b[0mpy\u001b[0m \u001b[0;32mimport\u001b[0m \u001b[0mtokenize\u001b[0m\u001b[0;34m\u001b[0m\u001b[0;34m\u001b[0m\u001b[0m\n\u001b[0m",
      "\u001b[0;31mModuleNotFoundError\u001b[0m: No module named 'ie_nlp_utils'"
     ]
    }
   ],
   "source": [
    "from ie_nlp_utils.py import tokenize"
   ]
  },
  {
   "cell_type": "code",
   "execution_count": 22,
   "metadata": {},
   "outputs": [
    {
     "ename": "TypeError",
     "evalue": "tokenize() takes 0 positional arguments but 1 was given",
     "output_type": "error",
     "traceback": [
      "\u001b[0;31m---------------------------------------------------------------------------\u001b[0m",
      "\u001b[0;31mTypeError\u001b[0m                                 Traceback (most recent call last)",
      "\u001b[0;32m<ipython-input-22-e3d28a7b0b41>\u001b[0m in \u001b[0;36m<module>\u001b[0;34m\u001b[0m\n\u001b[0;32m----> 1\u001b[0;31m \u001b[0mtokenize\u001b[0m\u001b[0;34m(\u001b[0m\u001b[0;34m\"This is a sentence\"\u001b[0m\u001b[0;34m)\u001b[0m\u001b[0;34m\u001b[0m\u001b[0;34m\u001b[0m\u001b[0m\n\u001b[0m",
      "\u001b[0;31mTypeError\u001b[0m: tokenize() takes 0 positional arguments but 1 was given"
     ]
    }
   ],
   "source": [
    "tokenize(\"This is a sentence\")"
   ]
  },
  {
   "cell_type": "markdown",
   "metadata": {},
   "source": [
    "### The `PYTHONPATH`\n",
    "\n",
    "However, importing our code only works from the same directory:\n",
    "\n",
    "```\n",
    "$ ls\n",
    "ie_nlp_utils.py README.md\n",
    "$ cd ..\n",
    "$ ls\n",
    "ie-nlp-utils\n",
    "$ python3\n",
    ">>> import math  # Still works\n",
    ">>> import ie_nlp_utils\n",
    "Traceback (most recent call last):\n",
    "  File \"<stdin>\", line 1, in <module>\n",
    "ModuleNotFoundError: No module named 'ie_nlp_utils'\n",
    "```\n",
    "\n",
    "Why? Python looks in some predefined locations to know where to find what we want to import, called the \"PATH\":\n",
    "\n",
    "```\n",
    ">>> import sys\n",
    ">>> sys.path\n",
    "['', '/usr/lib/python36.zip', '/usr/lib/python3.6', '/usr/lib/python3.6/lib-dynload', '/usr/local/lib/python3.6/dist-packages', '/usr/lib/python3/dist-packages']\n",
    "```\n",
    "\n",
    "Therefore, there are two ways of making our code **globally importable**:\n",
    "\n",
    "1. Modify the \"PATH\"\n",
    "2. Put our code inside a location predefined in the \"PATH\"\n",
    "\n",
    "The first option can be achieved like this:\n",
    "\n",
    "```\n",
    ">>> sys.path.insert(0, \"/home/juanlu/test_project\")\n",
    ">>> import model  # Works!\n",
    "Hello, world!\n",
    ">>>\n",
    "```\n",
    "\n",
    "Or, alternatively, from outside of the interpreter:\n",
    "\n",
    "```\n",
    "$ export PYTHONPATH=/home/juanlu/Projects/IE/ie_nlp_utils\n",
    "$ python3\n",
    ">>> import sys\n",
    ">>> sys.path  # Notice the change!\n",
    "['', '/home/juanlu/Projects/IE/ie_nlp_utils', '/usr/lib/python36.zip', '/usr/lib/python3.6', '/usr/lib/python3.6/lib-dynload', '/usr/local/lib/python3.6/dist-packages', '/usr/lib/python3/dist-packages']\n",
    ">>> import ie_nlp_utils  # Now it works!\n",
    ">>>\n",
    "```\n",
    "\n",
    "However, **both are bad practices and should be avoided**. In future sessions we will see [the right way to distribute Python code](https://packaging.python.org/tutorials/packaging-projects/)."
   ]
  },
  {
   "cell_type": "markdown",
   "metadata": {},
   "source": [
    "### What does `import` do?\n",
    "\n",
    "Python code is normally written in `.py` scripts. For example:\n",
    "\n",
    "```\n",
    "$ cat model.py\n",
    "print(\"Hello, world!\")\n",
    "```\n",
    "\n",
    "These scripts can be imported in the same way that any model or package from the [standard library](https://docs.python.org/3/library/index.html) can:\n",
    "\n",
    "```\n",
    "$ python3\n",
    ">>> import math  # Works, because it's in stdlib\n",
    ">>> import numpy as np  # Works if you `pip install numpy`'ed in advance\n",
    ">>> import model  # Works if you are in the same directory\n",
    "Hello, world!\n",
    ">>> \n",
    "```\n",
    "\n",
    "When the user imports a script, **python runs the script**. That's the way all the possible functions and classes inside it are available."
   ]
  }
 ],
 "metadata": {
  "kernelspec": {
   "display_name": "Python 3",
   "language": "python",
   "name": "python3"
  },
  "language_info": {
   "codemirror_mode": {
    "name": "ipython",
    "version": 3
   },
   "file_extension": ".py",
   "mimetype": "text/x-python",
   "name": "python",
   "nbconvert_exporter": "python",
   "pygments_lexer": "ipython3",
   "version": "3.7.4"
  }
 },
 "nbformat": 4,
 "nbformat_minor": 4
}
